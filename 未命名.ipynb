{
 "cells": [
  {
   "cell_type": "code",
   "execution_count": 1,
   "metadata": {},
   "outputs": [],
   "source": [
    "import pandas as pd\n",
    "import numpy as np\n",
    "from naive_vad import makeTrainData"
   ]
  },
  {
   "cell_type": "code",
   "execution_count": 4,
   "metadata": {},
   "outputs": [],
   "source": [
    "trainX, trainY = makeTrainData('data/dev', 'data/dev_label.txt')\n",
    "trainX = trainX[:, 1:].T"
   ]
  },
  {
   "cell_type": "code",
   "execution_count": 5,
   "metadata": {},
   "outputs": [],
   "source": [
    "df = pd.DataFrame(trainX, columns=['zcr','ener'])"
   ]
  },
  {
   "cell_type": "code",
   "execution_count": 6,
   "metadata": {},
   "outputs": [
    {
     "data": {
      "text/html": [
       "<div>\n",
       "<style scoped>\n",
       "    .dataframe tbody tr th:only-of-type {\n",
       "        vertical-align: middle;\n",
       "    }\n",
       "\n",
       "    .dataframe tbody tr th {\n",
       "        vertical-align: top;\n",
       "    }\n",
       "\n",
       "    .dataframe thead th {\n",
       "        text-align: right;\n",
       "    }\n",
       "</style>\n",
       "<table border=\"1\" class=\"dataframe\">\n",
       "  <thead>\n",
       "    <tr style=\"text-align: right;\">\n",
       "      <th></th>\n",
       "      <th>zcr</th>\n",
       "      <th>ener</th>\n",
       "    </tr>\n",
       "  </thead>\n",
       "  <tbody>\n",
       "    <tr>\n",
       "      <th>0</th>\n",
       "      <td>221.0</td>\n",
       "      <td>967.943780</td>\n",
       "    </tr>\n",
       "    <tr>\n",
       "      <th>1</th>\n",
       "      <td>221.0</td>\n",
       "      <td>895.181208</td>\n",
       "    </tr>\n",
       "    <tr>\n",
       "      <th>2</th>\n",
       "      <td>216.0</td>\n",
       "      <td>1018.047042</td>\n",
       "    </tr>\n",
       "    <tr>\n",
       "      <th>3</th>\n",
       "      <td>211.0</td>\n",
       "      <td>996.191086</td>\n",
       "    </tr>\n",
       "    <tr>\n",
       "      <th>4</th>\n",
       "      <td>210.0</td>\n",
       "      <td>918.225677</td>\n",
       "    </tr>\n",
       "  </tbody>\n",
       "</table>\n",
       "</div>"
      ],
      "text/plain": [
       "     zcr         ener\n",
       "0  221.0   967.943780\n",
       "1  221.0   895.181208\n",
       "2  216.0  1018.047042\n",
       "3  211.0   996.191086\n",
       "4  210.0   918.225677"
      ]
     },
     "execution_count": 6,
     "metadata": {},
     "output_type": "execute_result"
    }
   ],
   "source": [
    "df.head()"
   ]
  },
  {
   "cell_type": "code",
   "execution_count": 7,
   "metadata": {},
   "outputs": [
    {
     "data": {
      "text/html": [
       "<div>\n",
       "<style scoped>\n",
       "    .dataframe tbody tr th:only-of-type {\n",
       "        vertical-align: middle;\n",
       "    }\n",
       "\n",
       "    .dataframe tbody tr th {\n",
       "        vertical-align: top;\n",
       "    }\n",
       "\n",
       "    .dataframe thead th {\n",
       "        text-align: right;\n",
       "    }\n",
       "</style>\n",
       "<table border=\"1\" class=\"dataframe\">\n",
       "  <thead>\n",
       "    <tr style=\"text-align: right;\">\n",
       "      <th></th>\n",
       "      <th>zcr</th>\n",
       "      <th>ener</th>\n",
       "    </tr>\n",
       "  </thead>\n",
       "  <tbody>\n",
       "    <tr>\n",
       "      <th>count</th>\n",
       "      <td>880194.000000</td>\n",
       "      <td>880194.000000</td>\n",
       "    </tr>\n",
       "    <tr>\n",
       "      <th>mean</th>\n",
       "      <td>166.463991</td>\n",
       "      <td>6724.783842</td>\n",
       "    </tr>\n",
       "    <tr>\n",
       "      <th>std</th>\n",
       "      <td>91.673684</td>\n",
       "      <td>9507.130392</td>\n",
       "    </tr>\n",
       "    <tr>\n",
       "      <th>min</th>\n",
       "      <td>0.000000</td>\n",
       "      <td>0.000000</td>\n",
       "    </tr>\n",
       "    <tr>\n",
       "      <th>25%</th>\n",
       "      <td>92.000000</td>\n",
       "      <td>752.121687</td>\n",
       "    </tr>\n",
       "    <tr>\n",
       "      <th>50%</th>\n",
       "      <td>155.000000</td>\n",
       "      <td>3558.324918</td>\n",
       "    </tr>\n",
       "    <tr>\n",
       "      <th>75%</th>\n",
       "      <td>229.000000</td>\n",
       "      <td>8950.026184</td>\n",
       "    </tr>\n",
       "    <tr>\n",
       "      <th>max</th>\n",
       "      <td>480.000000</td>\n",
       "      <td>535118.771919</td>\n",
       "    </tr>\n",
       "  </tbody>\n",
       "</table>\n",
       "</div>"
      ],
      "text/plain": [
       "                 zcr           ener\n",
       "count  880194.000000  880194.000000\n",
       "mean      166.463991    6724.783842\n",
       "std        91.673684    9507.130392\n",
       "min         0.000000       0.000000\n",
       "25%        92.000000     752.121687\n",
       "50%       155.000000    3558.324918\n",
       "75%       229.000000    8950.026184\n",
       "max       480.000000  535118.771919"
      ]
     },
     "execution_count": 7,
     "metadata": {},
     "output_type": "execute_result"
    }
   ],
   "source": [
    "df.describe()"
   ]
  },
  {
   "cell_type": "markdown",
   "metadata": {},
   "source": [
    "Check the search"
   ]
  },
  {
   "cell_type": "code",
   "execution_count": 2,
   "metadata": {},
   "outputs": [],
   "source": [
    "import numpy as np\n",
    "AUC = np.load('AUCsearch.npy')\n",
    "EER = np.load('EERsearch.npy')"
   ]
  },
  {
   "cell_type": "code",
   "execution_count": 3,
   "metadata": {},
   "outputs": [
    {
     "name": "stdout",
     "output_type": "stream",
     "text": [
      "0.788364982952805\n",
      "(0, 5, 5, 0)\n"
     ]
    }
   ],
   "source": [
    "print(np.amax(AUC))\n",
    "print(np.unravel_index(np.argmax(AUC, axis=None), AUC.shape))"
   ]
  },
  {
   "cell_type": "code",
   "execution_count": 4,
   "metadata": {},
   "outputs": [
    {
     "name": "stdout",
     "output_type": "stream",
     "text": [
      "0.22676595987851775\n",
      "(1, 5, 3, 0)\n"
     ]
    }
   ],
   "source": [
    "print(np.amin(EER))\n",
    "print(np.unravel_index(np.argmin(EER, axis=None), EER.shape))"
   ]
  },
  {
   "cell_type": "code",
   "execution_count": 6,
   "metadata": {},
   "outputs": [
    {
     "name": "stdout",
     "output_type": "stream",
     "text": [
      "EER[0,5,5,0] 0.2525258860636876\n",
      "AUC[1,5,3,0] 0.7757385004125164\n"
     ]
    }
   ],
   "source": [
    "print ( 'EER[0,5,5,0]', EER[0,5,5,0] )\n",
    "\n",
    "print ( 'AUC[1,5,3,0]', AUC[1,5,3,0] )\n"
   ]
  },
  {
   "cell_type": "code",
   "execution_count": 8,
   "metadata": {},
   "outputs": [
    {
     "name": "stdout",
     "output_type": "stream",
     "text": [
      "0.821788465588291\n",
      "(0, 3, 4, 0)\n",
      "0.1840492507711113\n",
      "(1, 3, 5, 0)\n"
     ]
    }
   ],
   "source": [
    "AUC2 = np.load('AUCsearch2.npy')\n",
    "EER2 = np.load('EERsearch2.npy')\n",
    "print(np.amax(AUC2))\n",
    "print(np.unravel_index(np.argmax(AUC2, axis=None), AUC2.shape))\n",
    "\n",
    "print(np.amin(EER2))\n",
    "print(np.unravel_index(np.argmin(EER2, axis=None), EER2.shape))"
   ]
  },
  {
   "cell_type": "code",
   "execution_count": 9,
   "metadata": {},
   "outputs": [
    {
     "name": "stdout",
     "output_type": "stream",
     "text": [
      "EER[0,3,4,0] 0.3049363667660435\n",
      "AUC[1,3,5,0] 0.7401450578909949\n"
     ]
    }
   ],
   "source": [
    "print ( 'EER[0,3,4,0]', EER[0,3,4,0] )\n",
    "\n",
    "print ( 'AUC[1,3,5,0]', AUC[1,3,5,0] )"
   ]
  },
  {
   "cell_type": "code",
   "execution_count": 10,
   "metadata": {},
   "outputs": [
    {
     "name": "stdout",
     "output_type": "stream",
     "text": [
      "0.6241697287404302\n",
      "(2, 0, 2, 4)\n",
      "0.4609621852311801\n",
      "(2, 3, 3, 5)\n"
     ]
    }
   ],
   "source": [
    "AUC3 = np.load('AUCsearch3.npy')\n",
    "EER3 = np.load('EERsearch3.npy')\n",
    "print(np.amax(AUC3))\n",
    "print(np.unravel_index(np.argmax(AUC3, axis=None), AUC3.shape))\n",
    "\n",
    "print(np.amin(EER3))\n",
    "print(np.unravel_index(np.argmin(EER3, axis=None), EER3.shape))"
   ]
  },
  {
   "cell_type": "code",
   "execution_count": null,
   "metadata": {},
   "outputs": [],
   "source": []
  }
 ],
 "metadata": {
  "kernelspec": {
   "display_name": "Python 3",
   "language": "python",
   "name": "python3"
  },
  "language_info": {
   "codemirror_mode": {
    "name": "ipython",
    "version": 3
   },
   "file_extension": ".py",
   "mimetype": "text/x-python",
   "name": "python",
   "nbconvert_exporter": "python",
   "pygments_lexer": "ipython3",
   "version": "3.7.6"
  }
 },
 "nbformat": 4,
 "nbformat_minor": 4
}
